{
 "cells": [
  {
   "cell_type": "code",
   "execution_count": 1,
   "metadata": {},
   "outputs": [],
   "source": [
    "import shogi_node as sn\n",
    "import shogi_learn as sl\n",
    "from sql_setting import *\n",
    "from cshogi import CSA\n",
    "from sqlalchemy import func"
   ]
  },
  {
   "cell_type": "code",
   "execution_count": 3,
   "metadata": {},
   "outputs": [
    {
     "data": {
      "text/plain": [
       "12678149"
      ]
     },
     "execution_count": 3,
     "metadata": {},
     "output_type": "execute_result"
    }
   ],
   "source": [
    "session.query(sn.Node).count()"
   ]
  },
  {
   "cell_type": "code",
   "execution_count": 2,
   "metadata": {},
   "outputs": [
    {
     "name": "stdout",
     "output_type": "stream",
     "text": [
      "insert to db 106411 records\n",
      "100.00%, eta: 2023-09-10 18:06:38.978570\n",
      "move csa file\n",
      "100.00%, eta: 2023-09-10 18:07:37.840096\n"
     ]
    }
   ],
   "source": [
    "sn.parseAll()"
   ]
  },
  {
   "attachments": {},
   "cell_type": "markdown",
   "metadata": {},
   "source": [
    "csaデータ取込　リンク\n",
    "http://wdoor.c.u-tokyo.ac.jp/shogi/x/"
   ]
  },
  {
   "cell_type": "code",
   "execution_count": 2,
   "metadata": {},
   "outputs": [
    {
     "name": "stdout",
     "output_type": "stream",
     "text": [
      "SELECT newnode.`parentID` AS `newnode_parentID`, newnode.`turnNumber` AS `newnode_turnNumber`, newnode.move AS newnode_move, newnode.board AS newnode_board, sum(newnode.`throughCount`) AS `sumThroughCount`, sum(newnode.`drawCount`) AS `sumDrawCount`, sum(newnode.`firstWinCount`) AS `sumFirstWinCount`, sum(newnode.`secondWinCount`) AS `sumSecondWinCount` \n",
      "FROM newnode \n",
      "WHERE newnode.`turnNumber` < %s GROUP BY newnode.`parentID`, newnode.`turnNumber`, newnode.move, newnode.board \n",
      "HAVING count(*) > %s \n",
      " LIMIT %s\n",
      "SELECT newnode.\"ID\", newnode.\"parentID\", newnode.\"turnNumber\", newnode.move, newnode.board, newnode.\"throughCount\", newnode.\"drawCount\", newnode.\"firstWinCount\", newnode.\"secondWinCount\" \n",
      "FROM newnode JOIN (SELECT newnode.\"parentID\" AS \"parentID\", newnode.\"turnNumber\" AS \"turnNumber\", newnode.move AS move, newnode.board AS board \n",
      "FROM newnode \n",
      "WHERE newnode.\"turnNumber\" < :turnNumber_1 GROUP BY newnode.\"parentID\", newnode.\"turnNumber\", newnode.move, newnode.board \n",
      "HAVING count(*) > :count_1\n",
      " LIMIT :param_1) AS anon_1 ON newnode.\"parentID\" = anon_1.\"parentID\" AND newnode.\"turnNumber\" = anon_1.\"turnNumber\" AND newnode.move = anon_1.move AND newnode.board = anon_1.board\n",
      "SELECT newnode.\"ID\", newnode.\"parentID\", newnode.\"turnNumber\", newnode.move, newnode.board, newnode.\"throughCount\", newnode.\"drawCount\", newnode.\"firstWinCount\", newnode.\"secondWinCount\" \n",
      "FROM newnode JOIN (SELECT newnode.\"ID\" AS \"ID\", newnode.\"parentID\" AS \"parentID\", newnode.\"turnNumber\" AS \"turnNumber\", newnode.move AS move, newnode.board AS board, newnode.\"throughCount\" AS \"throughCount\", newnode.\"drawCount\" AS \"drawCount\", newnode.\"firstWinCount\" AS \"firstWinCount\", newnode.\"secondWinCount\" AS \"secondWinCount\" \n",
      "FROM newnode JOIN (SELECT newnode.\"parentID\" AS \"parentID\", newnode.\"turnNumber\" AS \"turnNumber\", newnode.move AS move, newnode.board AS board \n",
      "FROM newnode \n",
      "WHERE newnode.\"turnNumber\" < :turnNumber_1 GROUP BY newnode.\"parentID\", newnode.\"turnNumber\", newnode.move, newnode.board \n",
      "HAVING count(*) > :count_1\n",
      " LIMIT :param_1) AS anon_2 ON newnode.\"parentID\" = anon_2.\"parentID\" AND newnode.\"turnNumber\" = anon_2.\"turnNumber\" AND newnode.move = anon_2.move AND newnode.board = anon_2.board) AS anon_1 ON newnode.\"parentID\" = anon_1.\"ID\"\n"
     ]
    }
   ],
   "source": [
    "print(sn.getQueryNodeGroup())\n",
    "print(sn.getQueryGroupedNode())\n",
    "print(sn.getQueryGroupedNodeChild())"
   ]
  }
 ],
 "metadata": {
  "kernelspec": {
   "display_name": "Python 3",
   "language": "python",
   "name": "python3"
  },
  "language_info": {
   "codemirror_mode": {
    "name": "ipython",
    "version": 3
   },
   "file_extension": ".py",
   "mimetype": "text/x-python",
   "name": "python",
   "nbconvert_exporter": "python",
   "pygments_lexer": "ipython3",
   "version": "3.11.5"
  },
  "orig_nbformat": 4
 },
 "nbformat": 4,
 "nbformat_minor": 2
}
