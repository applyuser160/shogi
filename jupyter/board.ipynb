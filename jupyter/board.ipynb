{
 "cells": [
  {
   "cell_type": "code",
   "execution_count": 112,
   "metadata": {},
   "outputs": [],
   "source": [
    "from typing import List, Self\n",
    "import numpy as np\n",
    "import random\n",
    "import copy\n",
    "from shogi_enum import Direction, PieceName, Promotion, Turn, TemplateMove, SquareStatus, ConsoleColor\n",
    "from shogi_const import NUMBER_OF_EDGE, NUMBER_OF_SQUARES, MAXIMUM_NUMBER_OF_DIRECTIONS_DUE_TO_POSITIONAL_MOVEMENT, NUMBER_OF_DIRECTIONS, NUMBER_OF_PIECES\n",
    "from shogi_class import Condition, Move, Piece, Square, WayOfMove, Board"
   ]
  },
  {
   "cell_type": "code",
   "execution_count": 105,
   "metadata": {},
   "outputs": [],
   "source": [
    "c = Condition()"
   ]
  },
  {
   "cell_type": "code",
   "execution_count": 106,
   "metadata": {},
   "outputs": [
    {
     "name": "stdout",
     "output_type": "stream",
     "text": [
      "|9|8|7|6|5|4|3|2|1|\n",
      "| | | | | | | | | |1\n",
      "| | | | | | | | | |2\n",
      "| | | | | | | | | |3\n",
      "| | | | | | | | | |4\n",
      "| | | | | | | | | |5\n",
      "| | | | | | | | | |6\n",
      "| | | | | | | | | |7\n",
      "| | | | | | | | | |8\n",
      "|\u001b[36ml\u001b[0m| | | | | | | | |9\n",
      "NotOnBoard:\n",
      "\n"
     ]
    }
   ],
   "source": [
    "displayCondition(c)"
   ]
  },
  {
   "cell_type": "code",
   "execution_count": 107,
   "metadata": {},
   "outputs": [
    {
     "name": "stdout",
     "output_type": "stream",
     "text": [
      "row:9,column:1,name:l\n"
     ]
    }
   ],
   "source": [
    "for i in c.board.squares:\n",
    "    if i.piece.piece.name != PieceName.NON:\n",
    "        if i.address.row > 3: print(f\"row:{i.address.row},column:{i.address.column},name:{i.piece.piece.pieceToString()}\")"
   ]
  },
  {
   "cell_type": "code",
   "execution_count": 96,
   "metadata": {},
   "outputs": [
    {
     "name": "stdout",
     "output_type": "stream",
     "text": [
      "name:l,index:01,turn:1,direction:u0:0:8,u1:0:0,ul0:1:0,ul1:0:0,l0:2:0,l1:0:0,dl0:3:0,dl1:0:0,d0:4:0,d1:0:0,dr0:5:0,dr1:0:0,r0:6:0,r1:0:0,ur0:7:0,ur1:0:0,\n"
     ]
    }
   ],
   "source": [
    "for i in c.board.squares:\n",
    "    if i.piece.piece.name != PieceName.NON:\n",
    "        print(i.piece.toString())"
   ]
  },
  {
   "cell_type": "code",
   "execution_count": 115,
   "metadata": {},
   "outputs": [
    {
     "name": "stdout",
     "output_type": "stream",
     "text": [
      "row:1,column:1,name:L\n",
      "row:1,column:1,name:L\n",
      "row:1,column:1,name:L\n",
      "row:1,column:1,name:L\n",
      "row:1,column:1,name:L\n",
      "row:1,column:1,name:L\n",
      "row:1,column:1,name:L\n",
      "row:1,column:1,name:L\n"
     ]
    }
   ],
   "source": [
    "list = c.serchPointableHands()\n",
    "for ele in list:\n",
    "    print(f\"row:{ele.address.row},column:{ele.address.column},name:{ele.piece.piece.pieceToString()}\")"
   ]
  },
  {
   "cell_type": "code",
   "execution_count": 116,
   "metadata": {},
   "outputs": [
    {
     "name": "stdout",
     "output_type": "stream",
     "text": [
      "|9|8|7|6|5|4|3|2|1|\n",
      "| | | | | | | | | |1\n",
      "| | | | | | | | | |2\n",
      "| | | | | | | | | |3\n",
      "| | | | | | | | | |4\n",
      "| | | | | | | | | |5\n",
      "| | | | | | | | | |6\n",
      "| | | | | | | | | |7\n",
      "| | | | | | | | | |8\n",
      "|\u001b[36ml\u001b[0m| | | | | | | | |9\n",
      "NotOnBoard:\n",
      "\n",
      "8\n"
     ]
    },
    {
     "ename": "TypeError",
     "evalue": "list indices must be integers or slices, not NoneType",
     "output_type": "error",
     "traceback": [
      "\u001b[1;31m---------------------------------------------------------------------------\u001b[0m",
      "\u001b[1;31mTypeError\u001b[0m                                 Traceback (most recent call last)",
      "Cell \u001b[1;32mIn[116], line 11\u001b[0m\n\u001b[0;32m      9\u001b[0m \u001b[39mprint\u001b[39m(fc)\n\u001b[0;32m     10\u001b[0m x: \u001b[39mint\u001b[39m \u001b[39m=\u001b[39m random\u001b[39m.\u001b[39mrandint(\u001b[39m0\u001b[39m, fc \u001b[39m-\u001b[39m \u001b[39m1\u001b[39m)\n\u001b[1;32m---> 11\u001b[0m c \u001b[39m=\u001b[39m executeMove(c, pointableHands[x])\n\u001b[0;32m     12\u001b[0m \u001b[39mif\u001b[39;00m isEnd(c):\n\u001b[0;32m     13\u001b[0m     \u001b[39mif\u001b[39;00m whichWin(c):\n",
      "Cell \u001b[1;32mIn[29], line 167\u001b[0m, in \u001b[0;36mexecuteMove\u001b[1;34m(condition, move)\u001b[0m\n\u001b[0;32m    165\u001b[0m notObBoardIndex: \u001b[39mint\u001b[39m \u001b[39m=\u001b[39m condition\u001b[39m.\u001b[39mserchPieceFromNotOnBoard(move\u001b[39m.\u001b[39mpiece)\n\u001b[0;32m    166\u001b[0m \u001b[39mif\u001b[39;00m notObBoardIndex \u001b[39m!=\u001b[39m \u001b[39m-\u001b[39m\u001b[39m1\u001b[39m:\n\u001b[1;32m--> 167\u001b[0m     condition\u001b[39m.\u001b[39;49mdeployPieceNotOnBoard(notObBoardIndex, pieceNon)\n\u001b[0;32m    169\u001b[0m \u001b[39mfor\u001b[39;00m square \u001b[39min\u001b[39;00m condition\u001b[39m.\u001b[39mboard\u001b[39m.\u001b[39msquares:\n\u001b[0;32m    170\u001b[0m     \u001b[39mif\u001b[39;00m square\u001b[39m.\u001b[39maddress\u001b[39m.\u001b[39mequal(move\u001b[39m.\u001b[39maddress):\n",
      "File \u001b[1;32mf:\\s-sasahira\\Desktop\\clang\\shogi\\jupyter\\shogi_class.py:465\u001b[0m, in \u001b[0;36mCondition.deployPieceNotOnBoard\u001b[1;34m(self, index, piece)\u001b[0m\n\u001b[0;32m    464\u001b[0m \u001b[39mdef\u001b[39;00m \u001b[39mdeployPieceNotOnBoard\u001b[39m(\u001b[39mself\u001b[39m, index: \u001b[39mint\u001b[39m, piece: Piece):\n\u001b[1;32m--> 465\u001b[0m     \u001b[39mself\u001b[39;49m\u001b[39m.\u001b[39;49mnotOnBoard[index] \u001b[39m=\u001b[39m piece\n",
      "\u001b[1;31mTypeError\u001b[0m: list indices must be integers or slices, not NoneType"
     ]
    }
   ],
   "source": [
    "for i in range(30):\n",
    "    displayCondition(c)\n",
    "    if i != 0:\n",
    "        c.turn = not c.turn\n",
    "        c.turNumber = i + 1\n",
    "    \n",
    "    pointableHands: List[Move] = serchPointableHands(c)\n",
    "    fc: int = len(pointableHands)\n",
    "    print(fc)\n",
    "    x: int = random.randint(0, fc - 1)\n",
    "    c = executeMove(c, pointableHands[x])\n",
    "    if isEnd(c):\n",
    "        if whichWin(c):\n",
    "            print(\"first won\")\n",
    "        else:\n",
    "            print(\"second won\")\n",
    "print(\"draw\")"
   ]
  }
 ],
 "metadata": {
  "kernelspec": {
   "display_name": "Python 3",
   "language": "python",
   "name": "python3"
  },
  "language_info": {
   "codemirror_mode": {
    "name": "ipython",
    "version": 3
   },
   "file_extension": ".py",
   "mimetype": "text/x-python",
   "name": "python",
   "nbconvert_exporter": "python",
   "pygments_lexer": "ipython3",
   "version": "3.11.5"
  },
  "orig_nbformat": 4
 },
 "nbformat": 4,
 "nbformat_minor": 2
}
